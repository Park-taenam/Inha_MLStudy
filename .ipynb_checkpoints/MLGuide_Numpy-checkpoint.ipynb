{
 "cells": [
  {
   "cell_type": "markdown",
   "metadata": {},
   "source": [
    "Numpy\n",
    "- 넘파이의 기반 데이터 타입 : ndarray"
   ]
  },
  {
   "cell_type": "code",
   "execution_count": 87,
   "metadata": {
    "ExecuteTime": {
     "end_time": "2021-09-03T07:34:48.023912Z",
     "start_time": "2021-09-03T07:34:48.007881Z"
    }
   },
   "outputs": [],
   "source": [
    "import numpy as np"
   ]
  },
  {
   "cell_type": "markdown",
   "metadata": {},
   "source": [
    "# ndarray\n",
    "- .shape : array의 형태\n",
    "- .dtype : data 값의 type"
   ]
  },
  {
   "cell_type": "code",
   "execution_count": 88,
   "metadata": {
    "ExecuteTime": {
     "end_time": "2021-09-03T07:34:48.040881Z",
     "start_time": "2021-09-03T07:34:48.029877Z"
    }
   },
   "outputs": [
    {
     "name": "stdout",
     "output_type": "stream",
     "text": [
      "arr1 type :  <class 'numpy.ndarray'>\n",
      "arr1 array 형태 :  (3,)\n"
     ]
    }
   ],
   "source": [
    "arr1 = np.array([1,2,3])\n",
    "print('arr1 type : ', type(arr1))\n",
    "print('arr1 array 형태 : ', arr1.shape)"
   ]
  },
  {
   "cell_type": "code",
   "execution_count": 89,
   "metadata": {
    "ExecuteTime": {
     "end_time": "2021-09-03T07:34:48.052877Z",
     "start_time": "2021-09-03T07:34:48.044880Z"
    }
   },
   "outputs": [
    {
     "name": "stdout",
     "output_type": "stream",
     "text": [
      "arr2 type :  <class 'numpy.ndarray'>\n",
      "arr2 array 형태 :  (2, 3)\n"
     ]
    }
   ],
   "source": [
    "arr2 = np.array([[1,2,3],\n",
    "                 [4,5,6]])\n",
    "print('arr2 type : ', type(arr2))\n",
    "print('arr2 array 형태 : ', arr2.shape)"
   ]
  },
  {
   "cell_type": "code",
   "execution_count": 90,
   "metadata": {
    "ExecuteTime": {
     "end_time": "2021-09-03T07:34:48.062878Z",
     "start_time": "2021-09-03T07:34:48.055879Z"
    }
   },
   "outputs": [
    {
     "name": "stdout",
     "output_type": "stream",
     "text": [
      "arr3 type :  <class 'numpy.ndarray'>\n",
      "arr3 array 형태 :  (1, 3)\n"
     ]
    }
   ],
   "source": [
    "arr3 = np.array([[1,2,3]])\n",
    "print('arr3 type : ', type(arr3))\n",
    "print('arr3 array 형태 : ', arr3.shape)"
   ]
  },
  {
   "cell_type": "code",
   "execution_count": 91,
   "metadata": {
    "ExecuteTime": {
     "end_time": "2021-09-03T07:34:48.073914Z",
     "start_time": "2021-09-03T07:34:48.065884Z"
    }
   },
   "outputs": [
    {
     "name": "stdout",
     "output_type": "stream",
     "text": [
      "arr1 : 1차원, arr2 : 2차원, arr3 : 2차원\n"
     ]
    }
   ],
   "source": [
    "print('arr1 : {:0}차원, arr2 : {:1}차원, arr3 :{:2}차원'.format(arr1.ndim, arr2.ndim, arr3.ndim))"
   ]
  },
  {
   "cell_type": "code",
   "execution_count": 92,
   "metadata": {
    "ExecuteTime": {
     "end_time": "2021-09-03T07:34:48.088878Z",
     "start_time": "2021-09-03T07:34:48.076887Z"
    }
   },
   "outputs": [
    {
     "name": "stdout",
     "output_type": "stream",
     "text": [
      "<class 'list'>\n",
      "<class 'numpy.ndarray'>\n",
      "[1 2 3]\n",
      "int32\n"
     ]
    }
   ],
   "source": [
    "lst1 = [1,2,3]\n",
    "print(type(lst1))\n",
    "arr1 = np.array(lst1)\n",
    "print(type(arr1))\n",
    "print(arr1)\n",
    "print(arr1.dtype)"
   ]
  },
  {
   "cell_type": "markdown",
   "metadata": {},
   "source": [
    "# type 변경\n",
    "- 연산의 특성상 같은 데이터 타입만 가능\n",
    "- 다른 데이터 유형이 있으면 데이터 크기가 더 큰 데이터 타입으로 형 변환\n",
    "- .astype() : type 변경"
   ]
  },
  {
   "cell_type": "code",
   "execution_count": 93,
   "metadata": {
    "ExecuteTime": {
     "end_time": "2021-09-03T07:34:48.100882Z",
     "start_time": "2021-09-03T07:34:48.091879Z"
    }
   },
   "outputs": [
    {
     "name": "stdout",
     "output_type": "stream",
     "text": [
      "['1' '2' 'test'] <U11\n",
      "[1. 2. 3.] float64\n"
     ]
    }
   ],
   "source": [
    "# int, string\n",
    "lst2 = [1,2, 'test']\n",
    "arr2 = np.array(lst2)\n",
    "print(arr2, arr2.dtype)\n",
    "\n",
    "# int, float\n",
    "lst3 = [1,2,3.0]\n",
    "arr3 = np.array(lst3)\n",
    "print(arr3, arr3.dtype)"
   ]
  },
  {
   "cell_type": "code",
   "execution_count": 94,
   "metadata": {
    "ExecuteTime": {
     "end_time": "2021-09-03T07:34:48.115882Z",
     "start_time": "2021-09-03T07:34:48.103879Z"
    }
   },
   "outputs": [
    {
     "name": "stdout",
     "output_type": "stream",
     "text": [
      "[1. 2. 3.] float64\n",
      "[1 2 3] int32\n",
      "[1 2 3] int32\n"
     ]
    }
   ],
   "source": [
    "arr_int = np.array([1,2,3])\n",
    "arr_float = arr_int.astype('float64')\n",
    "print(arr_float, arr_float.dtype)\n",
    "\n",
    "arr_int1 = arr_float.astype('int32')\n",
    "print(arr_int1, arr_int1.dtype)\n",
    "\n",
    "arr_float1 = np.array([1.1, 2.1, 3.1])\n",
    "arr_int2 = arr_float1.astype('int32')\n",
    "print(arr_int2, arr_int2.dtype)"
   ]
  },
  {
   "cell_type": "markdown",
   "metadata": {},
   "source": [
    "# ndarray 생성\n",
    "- arange : 0부터 인자 값 -1 까지 값 순차적 생성\n",
    "- zeros : 튜플 형태의 shape 값 입력하면 모든 값을 0으로 채워서 생성\n",
    "- ones : 튜플 형태의 shape 값 입력하면 모든 값을 1로 채워서 생성"
   ]
  },
  {
   "cell_type": "code",
   "execution_count": 95,
   "metadata": {
    "ExecuteTime": {
     "end_time": "2021-09-03T07:34:48.126886Z",
     "start_time": "2021-09-03T07:34:48.121882Z"
    }
   },
   "outputs": [
    {
     "name": "stdout",
     "output_type": "stream",
     "text": [
      "[0 1 2 3 4 5 6 7 8 9]\n",
      "int32 (10,)\n"
     ]
    }
   ],
   "source": [
    "sequence_arr = np.arange(10)\n",
    "print(sequence_arr)\n",
    "print(sequence_arr.dtype, sequence_arr.shape)"
   ]
  },
  {
   "cell_type": "code",
   "execution_count": 96,
   "metadata": {
    "ExecuteTime": {
     "end_time": "2021-09-03T07:34:48.145877Z",
     "start_time": "2021-09-03T07:34:48.130885Z"
    }
   },
   "outputs": [
    {
     "name": "stdout",
     "output_type": "stream",
     "text": [
      "[[0 0]\n",
      " [0 0]\n",
      " [0 0]]\n",
      "int32 (3, 2) \n",
      "\n",
      "[[1. 1.]\n",
      " [1. 1.]\n",
      " [1. 1.]]\n",
      "float64 (3, 2)\n"
     ]
    }
   ],
   "source": [
    "zero_arr = np.zeros((3,2), dtype = 'int32')\n",
    "print(zero_arr)\n",
    "print(zero_arr.dtype, zero_arr.shape, '\\n')\n",
    "\n",
    "\n",
    "one_arr = np.ones((3,2))\n",
    "print(one_arr)\n",
    "print(one_arr.dtype, one_arr.shape)"
   ]
  },
  {
   "cell_type": "markdown",
   "metadata": {},
   "source": [
    "# reshape\n",
    "- 차원과 크기 변경\n",
    "- -1을 인자로 사용하면 더욱 효율적"
   ]
  },
  {
   "cell_type": "code",
   "execution_count": 97,
   "metadata": {
    "ExecuteTime": {
     "end_time": "2021-09-03T07:34:48.157878Z",
     "start_time": "2021-09-03T07:34:48.146880Z"
    }
   },
   "outputs": [
    {
     "name": "stdout",
     "output_type": "stream",
     "text": [
      "arr1:\n",
      " [0 1 2 3 4 5 6 7 8 9]\n",
      "arr2:\n",
      " [[0 1 2 3 4]\n",
      " [5 6 7 8 9]]\n",
      "arr3:\n",
      " [[0 1]\n",
      " [2 3]\n",
      " [4 5]\n",
      " [6 7]\n",
      " [8 9]]\n"
     ]
    }
   ],
   "source": [
    "arr1 = np.arange(10)\n",
    "print('arr1:\\n', arr1)\n",
    "\n",
    "arr2 = arr1.reshape(2,5)\n",
    "print('arr2:\\n', arr2)\n",
    "\n",
    "arr3 = arr1.reshape(5,2)\n",
    "print('arr3:\\n', arr3)"
   ]
  },
  {
   "cell_type": "code",
   "execution_count": 98,
   "metadata": {
    "ExecuteTime": {
     "end_time": "2021-09-03T07:34:48.166880Z",
     "start_time": "2021-09-03T07:34:48.158878Z"
    }
   },
   "outputs": [
    {
     "name": "stdout",
     "output_type": "stream",
     "text": [
      "arr1:\n",
      " [0 1 2 3 4 5 6 7 8 9]\n",
      "arr2:\n",
      " [[0 1 2 3 4]\n",
      " [5 6 7 8 9]]\n",
      "arr2 shape: (2, 5)\n",
      "arr3:\n",
      " [[0 1]\n",
      " [2 3]\n",
      " [4 5]\n",
      " [6 7]\n",
      " [8 9]]\n",
      "arr3 shape: (5, 2)\n"
     ]
    }
   ],
   "source": [
    "# -1\n",
    "\n",
    "arr1 = np.arange(10)\n",
    "print('arr1:\\n', arr1)\n",
    "\n",
    "arr2 = arr1.reshape(-1,5)\n",
    "print('arr2:\\n', arr2)\n",
    "print('arr2 shape:', arr2.shape)\n",
    "\n",
    "arr3 = arr1.reshape(5,-1)\n",
    "print('arr3:\\n', arr3)\n",
    "print('arr3 shape:', arr3.shape)"
   ]
  },
  {
   "cell_type": "code",
   "execution_count": 99,
   "metadata": {
    "ExecuteTime": {
     "end_time": "2021-09-03T07:34:48.175879Z",
     "start_time": "2021-09-03T07:34:48.167879Z"
    }
   },
   "outputs": [
    {
     "name": "stdout",
     "output_type": "stream",
     "text": [
      "arr3d:\n",
      " [[[0, 1], [2, 3]], [[4, 5], [6, 7]]]\n",
      "arr5:\n",
      " [[0], [1], [2], [3], [4], [5], [6], [7]]\n",
      "arr5 shape: (8, 1)\n",
      "arr6:\n",
      " [[0], [1], [2], [3], [4], [5], [6], [7]]\n",
      "arr6 shape: (8, 1)\n"
     ]
    }
   ],
   "source": [
    "arr1 = np.arange(8)\n",
    "arr3d = arr1.reshape((2,2,2))\n",
    "print('arr3d:\\n', arr3d.tolist())\n",
    "\n",
    "# 3차원 -> 2차원\n",
    "arr5 = arr3d.reshape(-1,1)\n",
    "print('arr5:\\n', arr5.tolist())\n",
    "print('arr5 shape:', arr5.shape)\n",
    "\n",
    "# 1차원 -> 2차원\n",
    "arr6 = arr1.reshape(-1,1)\n",
    "print('arr6:\\n', arr6.tolist())\n",
    "print('arr6 shape:', arr6.shape)"
   ]
  },
  {
   "cell_type": "markdown",
   "metadata": {},
   "source": [
    "# Indexing\n",
    "- axis = 0 : row\n",
    "- axis = 1 : column\n",
    "   - 생략되면 axis = 0 의미\n",
    "- 특정한 데이터만 추출\n",
    "- 슬라이싱(Slicing) - : 사용\n",
    "- 팬시 인덱싱(Fancy Indexing)\n",
    "- 불린 인덱싱(Boolean Indexing)"
   ]
  },
  {
   "cell_type": "markdown",
   "metadata": {},
   "source": [
    "## 단일값 추출"
   ]
  },
  {
   "cell_type": "code",
   "execution_count": 100,
   "metadata": {
    "ExecuteTime": {
     "end_time": "2021-09-03T07:34:48.182885Z",
     "start_time": "2021-09-03T07:34:48.177879Z"
    }
   },
   "outputs": [
    {
     "name": "stdout",
     "output_type": "stream",
     "text": [
      "[1 2 3 4 5 6 7 8 9]\n",
      "value :  3\n",
      "<class 'numpy.int32'>\n"
     ]
    }
   ],
   "source": [
    "arr1 = np.arange(start=1, stop = 10)\n",
    "print(arr1)\n",
    "\n",
    "# 3번째 index 의미 (0부터 시작)\n",
    "value = arr1[2]\n",
    "print('value : ', value)\n",
    "print(type(value))"
   ]
  },
  {
   "cell_type": "code",
   "execution_count": 101,
   "metadata": {
    "ExecuteTime": {
     "end_time": "2021-09-03T07:34:48.189878Z",
     "start_time": "2021-09-03T07:34:48.184879Z"
    }
   },
   "outputs": [
    {
     "name": "stdout",
     "output_type": "stream",
     "text": [
      "9 8\n"
     ]
    }
   ],
   "source": [
    "# -1은 맨뒤 데이터 값을 의미\n",
    "print(arr1[-1], arr1[-2])"
   ]
  },
  {
   "cell_type": "code",
   "execution_count": 102,
   "metadata": {
    "ExecuteTime": {
     "end_time": "2021-09-03T07:34:48.199878Z",
     "start_time": "2021-09-03T07:34:48.191878Z"
    }
   },
   "outputs": [
    {
     "data": {
      "text/plain": [
       "array([ 1,  2,  3,  4,  5,  6,  7,  8, 10])"
      ]
     },
     "execution_count": 102,
     "metadata": {},
     "output_type": "execute_result"
    }
   ],
   "source": [
    "# 값 변경\n",
    "arr1[8] = 10\n",
    "arr1"
   ]
  },
  {
   "cell_type": "markdown",
   "metadata": {},
   "source": [
    "## 다차원에서 단일값 추출"
   ]
  },
  {
   "cell_type": "code",
   "execution_count": 103,
   "metadata": {
    "ExecuteTime": {
     "end_time": "2021-09-03T07:34:48.205881Z",
     "start_time": "2021-09-03T07:34:48.201880Z"
    }
   },
   "outputs": [
    {
     "name": "stdout",
     "output_type": "stream",
     "text": [
      "[[1 2 3]\n",
      " [4 5 6]\n",
      " [7 8 9]]\n",
      "1\n",
      "5\n",
      "9\n"
     ]
    }
   ],
   "source": [
    "arr1d = np.arange(start=1, stop = 10)\n",
    "arr2d = arr1d.reshape(3,3)\n",
    "print(arr2d)\n",
    "\n",
    "print(arr2d[0,0])\n",
    "print(arr2d[1,1])\n",
    "print(arr2d[2,2])"
   ]
  },
  {
   "cell_type": "markdown",
   "metadata": {},
   "source": [
    "## slicing"
   ]
  },
  {
   "cell_type": "code",
   "execution_count": 104,
   "metadata": {
    "ExecuteTime": {
     "end_time": "2021-09-03T07:34:48.216879Z",
     "start_time": "2021-09-03T07:34:48.207879Z"
    }
   },
   "outputs": [
    {
     "name": "stdout",
     "output_type": "stream",
     "text": [
      "[1 2 3]\n",
      "<class 'numpy.ndarray'>\n"
     ]
    }
   ],
   "source": [
    "arr1 = np.arange(start=1, stop=10)\n",
    "arr3 = arr1[0:3]\n",
    "print(arr3)\n",
    "print(type(arr3))"
   ]
  },
  {
   "cell_type": "code",
   "execution_count": 105,
   "metadata": {
    "ExecuteTime": {
     "end_time": "2021-09-03T07:34:48.225878Z",
     "start_time": "2021-09-03T07:34:48.218880Z"
    }
   },
   "outputs": [
    {
     "name": "stdout",
     "output_type": "stream",
     "text": [
      "[1 2 3]\n",
      "[4 5 6 7 8 9]\n",
      "[1 2 3 4 5 6 7 8 9]\n"
     ]
    }
   ],
   "source": [
    "arr1 = np.arange(start=1, stop=10)\n",
    "# 시작 인덱스 생략 : 처음부터 시작\n",
    "arr4 = arr1[:3]\n",
    "print(arr4)\n",
    "# 종료 인덱스 생략 : 마지막까지\n",
    "arr5 = arr1[3:]\n",
    "print(arr5)\n",
    "# 시작, 종료 인덱스 생략 : 전체\n",
    "arr6 = arr1[:]\n",
    "print(arr6)"
   ]
  },
  {
   "cell_type": "code",
   "execution_count": 106,
   "metadata": {
    "ExecuteTime": {
     "end_time": "2021-09-03T07:34:48.236884Z",
     "start_time": "2021-09-03T07:34:48.227877Z"
    }
   },
   "outputs": [
    {
     "name": "stdout",
     "output_type": "stream",
     "text": [
      "[[1 2 3]\n",
      " [4 5 6]\n",
      " [7 8 9]] \n",
      "\n",
      "[[1 2]\n",
      " [4 5]] \n",
      "\n",
      "[[1 2 3]\n",
      " [4 5 6]] \n",
      "\n",
      "[[1 2]\n",
      " [4 5]] \n",
      "\n",
      "[[1 2 3]\n",
      " [4 5 6]] \n",
      "\n",
      "[[1 2]\n",
      " [4 5]\n",
      " [7 8]] \n",
      "\n",
      "[[1 2 3]\n",
      " [4 5 6]\n",
      " [7 8 9]] \n",
      "\n"
     ]
    }
   ],
   "source": [
    "arr1d = np.arange(start=1, stop=10)\n",
    "arr2d = arr1d.reshape(3,3)\n",
    "print(arr2d, '\\n')\n",
    "\n",
    "print(arr2d[0:2, 0:2], '\\n')\n",
    "print(arr2d[0:2, 0:], '\\n')\n",
    "print(arr2d[0:2, :2], '\\n')\n",
    "print(arr2d[0:2, :], '\\n')\n",
    "print(arr2d[:, 0:2], '\\n')\n",
    "print(arr2d[:, :], '\\n')"
   ]
  },
  {
   "cell_type": "code",
   "execution_count": 107,
   "metadata": {
    "ExecuteTime": {
     "end_time": "2021-09-03T07:34:48.245881Z",
     "start_time": "2021-09-03T07:34:48.238891Z"
    }
   },
   "outputs": [
    {
     "name": "stdout",
     "output_type": "stream",
     "text": [
      "[[1 2 3]\n",
      " [4 5 6]\n",
      " [7 8 9]] \n",
      "\n",
      "[1 2 3] \n",
      "\n",
      "[4 5 6] \n",
      "\n",
      "shape :  (3,)\n"
     ]
    }
   ],
   "source": [
    "print(arr2d, '\\n')\n",
    "print(arr2d[0], '\\n')\n",
    "print(arr2d[1], '\\n')\n",
    "print(\"shape : \", arr2d[1].shape)"
   ]
  },
  {
   "cell_type": "markdown",
   "metadata": {
    "ExecuteTime": {
     "end_time": "2021-09-02T09:17:26.501521Z",
     "start_time": "2021-09-02T09:17:26.496526Z"
    }
   },
   "source": [
    "## fancy indexing\n",
    "- 리스트나 ndarray로 인덱스 집합 지정"
   ]
  },
  {
   "cell_type": "code",
   "execution_count": 108,
   "metadata": {
    "ExecuteTime": {
     "end_time": "2021-09-03T07:34:48.255733Z",
     "start_time": "2021-09-03T07:34:48.247880Z"
    }
   },
   "outputs": [
    {
     "name": "stdout",
     "output_type": "stream",
     "text": [
      "[[1 2 3]\n",
      " [4 5 6]\n",
      " [7 8 9]] \n",
      "\n",
      "[3, 6] \n",
      "\n",
      "[[1, 2], [4, 5]] \n",
      "\n",
      "[[1, 2, 3], [4, 5, 6]] \n",
      "\n"
     ]
    }
   ],
   "source": [
    "arr1d = np.arange(start=1, stop=10)\n",
    "arr2d = arr1d.reshape(3,3)\n",
    "print(arr2d, '\\n')\n",
    "\n",
    "arr3 = arr2d[[0,1], 2]\n",
    "print(arr3.tolist(), '\\n')\n",
    "\n",
    "arr4 = arr2d[[0,1], 0:2]\n",
    "print(arr4.tolist(), '\\n')\n",
    "\n",
    "arr5 = arr2d[[0,1]]\n",
    "print(arr5.tolist(), '\\n')"
   ]
  },
  {
   "cell_type": "markdown",
   "metadata": {},
   "source": [
    "## boolean indexing"
   ]
  },
  {
   "cell_type": "code",
   "execution_count": 109,
   "metadata": {
    "ExecuteTime": {
     "end_time": "2021-09-03T07:34:48.263732Z",
     "start_time": "2021-09-03T07:34:48.257732Z"
    }
   },
   "outputs": [
    {
     "name": "stdout",
     "output_type": "stream",
     "text": [
      "[1 2 3 4 5 6 7 8 9] \n",
      "\n",
      "[False False False False False  True  True  True  True]\n"
     ]
    }
   ],
   "source": [
    "arr1d = np.arange(start=1, stop=10)\n",
    "print(arr1d, '\\n')\n",
    "\n",
    "print(arr1d>5)"
   ]
  },
  {
   "cell_type": "code",
   "execution_count": 110,
   "metadata": {
    "ExecuteTime": {
     "end_time": "2021-09-03T07:34:48.273731Z",
     "start_time": "2021-09-03T07:34:48.266738Z"
    }
   },
   "outputs": [
    {
     "name": "stdout",
     "output_type": "stream",
     "text": [
      "[1 2 3 4 5 6 7 8 9] \n",
      "\n",
      "[6 7 8 9]\n"
     ]
    }
   ],
   "source": [
    "arr1d = np.arange(start=1, stop=10)\n",
    "print(arr1d, '\\n')\n",
    "\n",
    "arr3 = arr1d[arr1d>5]\n",
    "print(arr3)"
   ]
  },
  {
   "cell_type": "markdown",
   "metadata": {},
   "source": [
    "# 정렬\n",
    "- 기본적으로 오름차순으로 정렬\n",
    "- 내림차순 : [::-1]\n",
    "\n",
    "> .sort\n",
    "- np.sort() : 원 행렬은 그대로 유지한 채 원 행렬의 정렬된 행렬을 반환\n",
    "- ndarray.sort() : 원 행렬 자체를 정렬한 형태로 변환하며 반환 값은 None\n",
    "\n",
    "> .argsort : \n",
    "- 원본 행렬이 정렬되었을 때 기존 원본 행렬의 원소에 대한 인덱스"
   ]
  },
  {
   "cell_type": "markdown",
   "metadata": {},
   "source": [
    "## sort"
   ]
  },
  {
   "cell_type": "code",
   "execution_count": 111,
   "metadata": {
    "ExecuteTime": {
     "end_time": "2021-09-03T07:34:48.284734Z",
     "start_time": "2021-09-03T07:34:48.275729Z"
    }
   },
   "outputs": [
    {
     "name": "stdout",
     "output_type": "stream",
     "text": [
      "원본 행렬 :  [3 1 9 5] \n",
      "\n",
      "정렬 행렬 :  [1 3 5 9]\n",
      "정렬 후 원본 행렬 :  [3 1 9 5] \n",
      "\n",
      "정렬 행렬 :  None\n",
      "정렬 후 원본 행렬 :  [1 3 5 9]\n"
     ]
    }
   ],
   "source": [
    "org_arr = np.array([3,1,9,5])\n",
    "print(\"원본 행렬 : \", org_arr, '\\n' )\n",
    "\n",
    "sort_arr1 = np.sort(org_arr)\n",
    "print(\"정렬 행렬 : \", sort_arr1)\n",
    "print(\"정렬 후 원본 행렬 : \", org_arr, '\\n' )\n",
    "\n",
    "sort_arr2 = org_arr.sort()\n",
    "print(\"정렬 행렬 : \", sort_arr2)\n",
    "print(\"정렬 후 원본 행렬 : \", org_arr)"
   ]
  },
  {
   "cell_type": "code",
   "execution_count": 112,
   "metadata": {
    "ExecuteTime": {
     "end_time": "2021-09-03T07:34:48.292762Z",
     "start_time": "2021-09-03T07:34:48.287729Z"
    }
   },
   "outputs": [
    {
     "name": "stdout",
     "output_type": "stream",
     "text": [
      "[9 5 3 1]\n"
     ]
    }
   ],
   "source": [
    "# 내림차순\n",
    "sort_arr_desc = np.sort(org_arr)[::-1]\n",
    "print(sort_arr_desc)"
   ]
  },
  {
   "cell_type": "code",
   "execution_count": 113,
   "metadata": {
    "ExecuteTime": {
     "end_time": "2021-09-03T07:34:48.302735Z",
     "start_time": "2021-09-03T07:34:48.296732Z"
    }
   },
   "outputs": [
    {
     "name": "stdout",
     "output_type": "stream",
     "text": [
      "[[ 8 12]\n",
      " [ 7  1]] \n",
      "\n",
      "로우 방향으로 정렬:\n",
      " [[ 7  1]\n",
      " [ 8 12]] \n",
      "\n",
      "컬럼 방향으로 정렬:\n",
      " [[ 8 12]\n",
      " [ 1  7]]\n"
     ]
    }
   ],
   "source": [
    "# 2차원 이상\n",
    "arr2d = np.array([[8,12],\n",
    "                 [7,1]])\n",
    "print(arr2d,'\\n')\n",
    "\n",
    "sort_arr2d_axis0 = np.sort(arr2d, axis=0)\n",
    "print('로우 방향으로 정렬:\\n', sort_arr2d_axis0, '\\n')\n",
    "\n",
    "sort_arr2d_axis1 = np.sort(arr2d, axis=1)\n",
    "print('컬럼 방향으로 정렬:\\n', sort_arr2d_axis1)"
   ]
  },
  {
   "cell_type": "markdown",
   "metadata": {},
   "source": [
    "## argsort\n",
    "- 원본 행렬이 정렬되었을 때 기존 원본 행렬의 원소에 대한 인덱스"
   ]
  },
  {
   "cell_type": "code",
   "execution_count": 114,
   "metadata": {
    "ExecuteTime": {
     "end_time": "2021-09-03T07:34:48.312727Z",
     "start_time": "2021-09-03T07:34:48.305732Z"
    }
   },
   "outputs": [
    {
     "name": "stdout",
     "output_type": "stream",
     "text": [
      "<class 'numpy.ndarray'>\n",
      "행렬 정렬 시 원본 행렬의 인덱스 :  [1 0 3 2]\n"
     ]
    }
   ],
   "source": [
    "org_arr = np.array([3,1,9,5])\n",
    "sort_indices = np.argsort(org_arr)\n",
    "print(type(sort_indices))\n",
    "print('행렬 정렬 시 원본 행렬의 인덱스 : ', sort_indices)"
   ]
  },
  {
   "cell_type": "code",
   "execution_count": 115,
   "metadata": {
    "ExecuteTime": {
     "end_time": "2021-09-03T07:34:48.325779Z",
     "start_time": "2021-09-03T07:34:48.315741Z"
    }
   },
   "outputs": [
    {
     "name": "stdout",
     "output_type": "stream",
     "text": [
      "<class 'numpy.ndarray'>\n",
      "행렬 정렬 시 원본 행렬의 인덱스 :  [2 3 0 1]\n"
     ]
    }
   ],
   "source": [
    "# 내림차순으로 정렬했을 때\n",
    "org_arr = np.array([3,1,9,5])\n",
    "sort_indices = np.argsort(org_arr)[::-1]\n",
    "print(type(sort_indices))\n",
    "print('행렬 정렬 시 원본 행렬의 인덱스 : ', sort_indices)"
   ]
  },
  {
   "cell_type": "code",
   "execution_count": 116,
   "metadata": {
    "ExecuteTime": {
     "end_time": "2021-09-03T07:34:48.337731Z",
     "start_time": "2021-09-03T07:34:48.328735Z"
    }
   },
   "outputs": [
    {
     "name": "stdout",
     "output_type": "stream",
     "text": [
      "성적 오름차순 정렬 시 score_arr의 인덱스 :  [2 1 3 0 4]\n",
      "성적 오름차순으로 name_arr의 이름 출력 :  ['Lee' 'Kim' 'Jung' 'Park' 'Baek']\n"
     ]
    }
   ],
   "source": [
    "# 매우 활용도가 높음\n",
    "# 예시\n",
    "name_arr = np.array(['Park', 'Kim', 'Lee', 'Jung', 'Baek'])\n",
    "score_arr = np.array([95, 78, 68, 83, 97])\n",
    "\n",
    "sort_indices_asc = np.argsort(score_arr)\n",
    "print(\"성적 오름차순 정렬 시 score_arr의 인덱스 : \", sort_indices_asc)\n",
    "print(\"성적 오름차순으로 name_arr의 이름 출력 : \", name_arr[sort_indices_asc])\n"
   ]
  },
  {
   "cell_type": "markdown",
   "metadata": {},
   "source": [
    "# 선형대수 연산\n",
    "- 행렬 내적 : np.dot()\n",
    "- 전치 행렬 : trnaspose()"
   ]
  },
  {
   "cell_type": "markdown",
   "metadata": {},
   "source": [
    "## 내적"
   ]
  },
  {
   "cell_type": "code",
   "execution_count": 117,
   "metadata": {
    "ExecuteTime": {
     "end_time": "2021-09-03T07:34:48.344736Z",
     "start_time": "2021-09-03T07:34:48.339730Z"
    }
   },
   "outputs": [],
   "source": [
    "A = np.array([[1,2,3],\n",
    "             [4,5,6]])\n",
    "B = np.array([[7,8],\n",
    "             [9,10],\n",
    "             [11,12]])"
   ]
  },
  {
   "cell_type": "code",
   "execution_count": 118,
   "metadata": {
    "ExecuteTime": {
     "end_time": "2021-09-03T07:34:48.357727Z",
     "start_time": "2021-09-03T07:34:48.347736Z"
    }
   },
   "outputs": [
    {
     "name": "stdout",
     "output_type": "stream",
     "text": [
      "[[ 58  64]\n",
      " [139 154]]\n"
     ]
    }
   ],
   "source": [
    "dot_product = np.dot(A,B)\n",
    "print(dot_product)"
   ]
  },
  {
   "cell_type": "markdown",
   "metadata": {},
   "source": [
    "## 전치"
   ]
  },
  {
   "cell_type": "code",
   "execution_count": 119,
   "metadata": {
    "ExecuteTime": {
     "end_time": "2021-09-03T07:34:48.366737Z",
     "start_time": "2021-09-03T07:34:48.359735Z"
    }
   },
   "outputs": [
    {
     "name": "stdout",
     "output_type": "stream",
     "text": [
      "[[1 2 3]\n",
      " [4 5 6]] \n",
      "\n",
      " [[1 4]\n",
      " [2 5]\n",
      " [3 6]]\n"
     ]
    }
   ],
   "source": [
    "A = np.array([[1,2,3],\n",
    "             [4,5,6]])\n",
    "A_transpose = np.transpose(A)\n",
    "print(A, '\\n\\n', A_transpose)"
   ]
  },
  {
   "cell_type": "code",
   "execution_count": null,
   "metadata": {},
   "outputs": [],
   "source": []
  }
 ],
 "metadata": {
  "hide_input": false,
  "kernelspec": {
   "display_name": "Python 3",
   "language": "python",
   "name": "python3"
  },
  "language_info": {
   "codemirror_mode": {
    "name": "ipython",
    "version": 3
   },
   "file_extension": ".py",
   "mimetype": "text/x-python",
   "name": "python",
   "nbconvert_exporter": "python",
   "pygments_lexer": "ipython3",
   "version": "3.8.3"
  },
  "toc": {
   "base_numbering": 1,
   "nav_menu": {},
   "number_sections": true,
   "sideBar": true,
   "skip_h1_title": false,
   "title_cell": "Table of Contents",
   "title_sidebar": "Contents",
   "toc_cell": false,
   "toc_position": {
    "height": "calc(100% - 180px)",
    "left": "10px",
    "top": "150px",
    "width": "292.754px"
   },
   "toc_section_display": true,
   "toc_window_display": true
  },
  "varInspector": {
   "cols": {
    "lenName": 16,
    "lenType": 16,
    "lenVar": 40
   },
   "kernels_config": {
    "python": {
     "delete_cmd_postfix": "",
     "delete_cmd_prefix": "del ",
     "library": "var_list.py",
     "varRefreshCmd": "print(var_dic_list())"
    },
    "r": {
     "delete_cmd_postfix": ") ",
     "delete_cmd_prefix": "rm(",
     "library": "var_list.r",
     "varRefreshCmd": "cat(var_dic_list()) "
    }
   },
   "types_to_exclude": [
    "module",
    "function",
    "builtin_function_or_method",
    "instance",
    "_Feature"
   ],
   "window_display": false
  }
 },
 "nbformat": 4,
 "nbformat_minor": 4
}
